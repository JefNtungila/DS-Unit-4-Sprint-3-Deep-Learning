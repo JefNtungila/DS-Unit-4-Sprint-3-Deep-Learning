{
  "nbformat": 4,
  "nbformat_minor": 0,
  "metadata": {
    "accelerator": "GPU",
    "colab": {
      "name": "LS_DS_Unit_4_Sprint_Challenge_3.ipynb",
      "version": "0.3.2",
      "provenance": [],
      "collapsed_sections": [],
      "include_colab_link": true
    },
    "kernelspec": {
      "name": "u4-s3-dnn",
      "language": "python",
      "display_name": "U4-S3-DNN (Python 3.7)"
    },
    "language_info": {
      "name": "python",
      "version": "3.7.3",
      "mimetype": "text/x-python",
      "codemirror_mode": {
        "name": "ipython",
        "version": 3
      },
      "pygments_lexer": "ipython3",
      "nbconvert_exporter": "python",
      "file_extension": ".py"
    },
    "kernel_info": {
      "name": "u4-s3-dnn"
    },
    "nteract": {
      "version": "0.14.5"
    }
  },
  "cells": [
    {
      "cell_type": "markdown",
      "metadata": {
        "id": "view-in-github",
        "colab_type": "text"
      },
      "source": [
        "<a href=\"https://colab.research.google.com/github/JefNtungila/DS-Unit-4-Sprint-3-Deep-Learning/blob/master/LS_DS_Unit_4_Sprint_Challenge_3.ipynb\" target=\"_parent\"><img src=\"https://colab.research.google.com/assets/colab-badge.svg\" alt=\"Open In Colab\"/></a>"
      ]
    },
    {
      "cell_type": "markdown",
      "metadata": {
        "id": "McPAKwzwEuwj",
        "colab_type": "text"
      },
      "source": [
        "<img align=\"left\" src=\"https://lever-client-logos.s3.amazonaws.com/864372b1-534c-480e-acd5-9711f850815c-1524247202159.png\" width=200>\n",
        "<br></br>\n",
        "<br></br>\n",
        "\n",
        "# Major Neural Network Architectures Challenge\n",
        "## *Data Science Unit 4 Sprint 3 Challenge*\n",
        "\n",
        "In this sprint challenge, you'll explore some of the cutting edge of Data Science. This week we studied several famous neural network architectures: \n",
        "recurrent neural networks (RNNs), long short-term memory (LSTMs), convolutional neural networks (CNNs), and Generative Adverserial Networks (GANs). In this sprint challenge, you will revisit these models. Remember, we are testing your knowledge of these architectures not your ability to fit a model with high accuracy. \n",
        "\n",
        "__*Caution:*__  these approaches can be pretty heavy computationally. All problems were designed so that you should be able to achieve results within at most 5-10 minutes of runtime on Colab or a comparable environment. If something is running longer, doublecheck your approach!\n",
        "\n",
        "## Challenge Objectives\n",
        "*You should be able to:*\n",
        "* <a href=\"#p1\">Part 1</a>: Train a RNN classification model\n",
        "* <a href=\"#p2\">Part 2</a>: Utilize a pre-trained CNN for objective detection\n",
        "* <a href=\"#p3\">Part 3</a>: Describe the difference between a discriminator and generator in a GAN\n",
        "* <a href=\"#p4\">Part 4</a>: Describe yourself as a Data Science and elucidate your vision of AI"
      ]
    },
    {
      "cell_type": "markdown",
      "metadata": {
        "colab_type": "text",
        "id": "-5UwGRnJOmD4"
      },
      "source": [
        "<a id=\"p1\"></a>\n",
        "## Part 1 - RNNs\n",
        "\n",
        "Use an RNN to fit a multi-class classification model on reuters news articles to distinguish topics of articles. The data is already encoded properly for use in an RNN model. \n",
        "\n",
        "Your Tasks: \n",
        "- Use Keras to fit a predictive model, classifying news articles into topics. \n",
        "- Report your overall score and accuracy\n",
        "\n",
        "For reference, the [Keras IMDB sentiment classification example](https://github.com/keras-team/keras/blob/master/examples/imdb_lstm.py) will be useful, as well the RNN code we used in class.\n",
        "\n",
        "__*Note:*__  Focus on getting a running model, not on maxing accuracy with extreme data size or epoch numbers. Only revisit and push accuracy if you get everything else done!"
      ]
    },
    {
      "cell_type": "code",
      "metadata": {
        "id": "GmhWYPXgFKEW",
        "colab_type": "code",
        "colab": {}
      },
      "source": [
        "import numpy as np"
      ],
      "execution_count": 0,
      "outputs": []
    },
    {
      "cell_type": "code",
      "metadata": {
        "colab_type": "code",
        "id": "_QVSlFEAqWJM",
        "outputId": "445de819-03bd-4679-f04a-ebc3e60bdd0a",
        "colab": {
          "base_uri": "https://localhost:8080/",
          "height": 34
        }
      },
      "source": [
        "# TODO - your code!\n",
        "\n",
        "from __future__ import print_function\n",
        "\n",
        "from keras.preprocessing import sequence\n",
        "from keras.models import Sequential\n",
        "from keras.layers import Dense, Embedding\n",
        "from keras.layers import LSTM"
      ],
      "execution_count": 0,
      "outputs": [
        {
          "output_type": "stream",
          "text": [
            "Using TensorFlow backend.\n"
          ],
          "name": "stderr"
        }
      ]
    },
    {
      "cell_type": "code",
      "metadata": {
        "id": "JQMZcla2E187",
        "colab_type": "code",
        "colab": {}
      },
      "source": [
        "np_load_old = np.load\n",
        "np.load = lambda *a, **k: np_load_old(*a, allow_pickle=True, **k)"
      ],
      "execution_count": 0,
      "outputs": []
    },
    {
      "cell_type": "code",
      "metadata": {
        "colab_type": "code",
        "id": "DS-9ksWjoJit",
        "colab": {}
      },
      "source": [
        "from tensorflow.keras.datasets import reuters\n",
        "\n",
        "(X_train, y_train), (X_test, y_test) = reuters.load_data(num_words=None,\n",
        "                                                         skip_top=0,\n",
        "                                                         maxlen=None,\n",
        "                                                         test_split=0.2,\n",
        "                                                         seed=723812,\n",
        "                                                         start_char=1,\n",
        "                                                         oov_char=2,\n",
        "                                                         index_from=3)"
      ],
      "execution_count": 0,
      "outputs": []
    },
    {
      "cell_type": "code",
      "metadata": {
        "colab_type": "code",
        "id": "fLKqFh8DovaN",
        "outputId": "1a718dd3-c06c-430d-8f45-146da51e29c8",
        "colab": {
          "base_uri": "https://localhost:8080/",
          "height": 67
        }
      },
      "source": [
        "# Demo of encoding\n",
        "\n",
        "word_index = reuters.get_word_index(path=\"reuters_word_index.json\")\n",
        "\n",
        "print(f\"Iran is encoded as {word_index['iran']} in the data\")\n",
        "print(f\"London is encoded as {word_index['london']} in the data\")\n",
        "print(\"Words are encoded as numbers in our dataset.\")"
      ],
      "execution_count": 0,
      "outputs": [
        {
          "output_type": "stream",
          "text": [
            "Iran is encoded as 779 in the data\n",
            "London is encoded as 544 in the data\n",
            "Words are encoded as numbers in our dataset.\n"
          ],
          "name": "stdout"
        }
      ]
    },
    {
      "cell_type": "code",
      "metadata": {
        "id": "ol24kAD8O6gg",
        "colab_type": "code",
        "colab": {}
      },
      "source": [
        "max_features = 20000\n",
        "# cut texts after this number of words (among top max_features most common words)\n",
        "maxlen = 80\n",
        "batch_size = 32"
      ],
      "execution_count": 0,
      "outputs": []
    },
    {
      "cell_type": "code",
      "metadata": {
        "id": "5hvr4BxuUIJ_",
        "colab_type": "code",
        "outputId": "a318bc27-0cb7-4786-907b-8fd2799c9a0c",
        "colab": {
          "base_uri": "https://localhost:8080/",
          "height": 67
        }
      },
      "source": [
        "# print('Pad sequences (samples x time)')\n",
        "# X_train = sequence.pad_sequences(X_train, maxlen=maxlen)\n",
        "# X_test = sequence.pad_sequences(X_test, maxlen=maxlen)\n",
        "print('x_train shape:', X_train.shape)\n",
        "print('x_test shape:', X_test.shape)\n"
      ],
      "execution_count": 0,
      "outputs": [
        {
          "output_type": "stream",
          "text": [
            "Pad sequences (samples x time)\n",
            "x_train shape: (8982, 80)\n",
            "x_test shape: (2246, 80)\n"
          ],
          "name": "stdout"
        }
      ]
    },
    {
      "cell_type": "code",
      "metadata": {
        "id": "IsAir_grUx-Z",
        "colab_type": "code",
        "outputId": "393cd774-a07e-462a-e115-d0671d33a80b",
        "colab": {
          "base_uri": "https://localhost:8080/",
          "height": 205
        }
      },
      "source": [
        "print('Build model...')\n",
        "model = Sequential()\n",
        "model.add(Embedding(max_features, 128))\n",
        "model.add(LSTM(128, dropout=0.2, recurrent_dropout=0.2))\n",
        "model.add(Dense(1, activation='sigmoid'))"
      ],
      "execution_count": 0,
      "outputs": [
        {
          "output_type": "stream",
          "text": [
            "W0823 16:33:23.082944 139849723418496 deprecation_wrapper.py:119] From /usr/local/lib/python3.6/dist-packages/keras/backend/tensorflow_backend.py:517: The name tf.placeholder is deprecated. Please use tf.compat.v1.placeholder instead.\n",
            "\n",
            "W0823 16:33:23.099108 139849723418496 deprecation_wrapper.py:119] From /usr/local/lib/python3.6/dist-packages/keras/backend/tensorflow_backend.py:4138: The name tf.random_uniform is deprecated. Please use tf.random.uniform instead.\n",
            "\n"
          ],
          "name": "stderr"
        },
        {
          "output_type": "stream",
          "text": [
            "Build model...\n"
          ],
          "name": "stdout"
        },
        {
          "output_type": "stream",
          "text": [
            "W0823 16:33:23.392056 139849723418496 deprecation_wrapper.py:119] From /usr/local/lib/python3.6/dist-packages/keras/backend/tensorflow_backend.py:133: The name tf.placeholder_with_default is deprecated. Please use tf.compat.v1.placeholder_with_default instead.\n",
            "\n",
            "W0823 16:33:23.399908 139849723418496 deprecation.py:506] From /usr/local/lib/python3.6/dist-packages/keras/backend/tensorflow_backend.py:3445: calling dropout (from tensorflow.python.ops.nn_ops) with keep_prob is deprecated and will be removed in a future version.\n",
            "Instructions for updating:\n",
            "Please use `rate` instead of `keep_prob`. Rate should be set to `rate = 1 - keep_prob`.\n"
          ],
          "name": "stderr"
        }
      ]
    },
    {
      "cell_type": "code",
      "metadata": {
        "id": "xkfkSCDKU17e",
        "colab_type": "code",
        "outputId": "b303f48b-3680-4c5d-8687-0f0b59eb1490",
        "colab": {
          "base_uri": "https://localhost:8080/",
          "height": 154
        }
      },
      "source": [
        "# try using different optimizers and different optimizer configs\n",
        "model.compile(loss='binary_crossentropy',\n",
        "              optimizer='adam',\n",
        "              metrics=['accuracy'])\n"
      ],
      "execution_count": 0,
      "outputs": [
        {
          "output_type": "stream",
          "text": [
            "W0823 16:33:37.955615 139849723418496 deprecation_wrapper.py:119] From /usr/local/lib/python3.6/dist-packages/keras/optimizers.py:790: The name tf.train.Optimizer is deprecated. Please use tf.compat.v1.train.Optimizer instead.\n",
            "\n",
            "W0823 16:33:37.983184 139849723418496 deprecation_wrapper.py:119] From /usr/local/lib/python3.6/dist-packages/keras/backend/tensorflow_backend.py:3376: The name tf.log is deprecated. Please use tf.math.log instead.\n",
            "\n",
            "W0823 16:33:37.989211 139849723418496 deprecation.py:323] From /usr/local/lib/python3.6/dist-packages/tensorflow/python/ops/nn_impl.py:180: add_dispatch_support.<locals>.wrapper (from tensorflow.python.ops.array_ops) is deprecated and will be removed in a future version.\n",
            "Instructions for updating:\n",
            "Use tf.where in 2.0, which has the same broadcast rule as np.where\n"
          ],
          "name": "stderr"
        }
      ]
    },
    {
      "cell_type": "code",
      "metadata": {
        "id": "8D_buszOU5mx",
        "colab_type": "code",
        "outputId": "bfe1ee10-3dbe-4151-86ca-5cd540d02cad",
        "colab": {
          "base_uri": "https://localhost:8080/",
          "height": 638
        }
      },
      "source": [
        "%%time\n",
        "\n",
        "\n",
        "print('Train...')\n",
        "model.fit(X_train, y_train,\n",
        "          batch_size=batch_size,\n",
        "          epochs=15,\n",
        "          validation_data=(X_test, y_test))\n",
        "score, acc = model.evaluate(X_test, y_test,\n",
        "                            batch_size=batch_size)\n",
        "print('Test score:', score)\n",
        "print('Test accuracy:', acc)"
      ],
      "execution_count": 0,
      "outputs": [
        {
          "output_type": "stream",
          "text": [
            "Train...\n",
            "Train on 8982 samples, validate on 2246 samples\n",
            "Epoch 1/15\n",
            "8982/8982 [==============================] - 36s 4ms/step - loss: -126.1316 - acc: 0.0499 - val_loss: -124.4585 - val_acc: 0.0396\n",
            "Epoch 2/15\n",
            "8982/8982 [==============================] - 36s 4ms/step - loss: -126.1316 - acc: 0.0499 - val_loss: -124.4585 - val_acc: 0.0396\n",
            "Epoch 3/15\n",
            "8982/8982 [==============================] - 36s 4ms/step - loss: -126.1316 - acc: 0.0499 - val_loss: -124.4585 - val_acc: 0.0396\n",
            "Epoch 4/15\n",
            "8982/8982 [==============================] - 36s 4ms/step - loss: -126.1316 - acc: 0.0499 - val_loss: -124.4585 - val_acc: 0.0396\n",
            "Epoch 5/15\n",
            "8982/8982 [==============================] - 36s 4ms/step - loss: -126.1316 - acc: 0.0499 - val_loss: -124.4585 - val_acc: 0.0396\n",
            "Epoch 6/15\n",
            "8982/8982 [==============================] - 36s 4ms/step - loss: -126.1316 - acc: 0.0499 - val_loss: -124.4585 - val_acc: 0.0396\n",
            "Epoch 7/15\n",
            "8982/8982 [==============================] - 36s 4ms/step - loss: -126.1316 - acc: 0.0499 - val_loss: -124.4585 - val_acc: 0.0396\n",
            "Epoch 8/15\n",
            "8982/8982 [==============================] - 36s 4ms/step - loss: -126.1316 - acc: 0.0499 - val_loss: -124.4585 - val_acc: 0.0396\n",
            "Epoch 9/15\n",
            "8982/8982 [==============================] - 36s 4ms/step - loss: -126.1316 - acc: 0.0499 - val_loss: -124.4585 - val_acc: 0.0396\n",
            "Epoch 10/15\n",
            "8982/8982 [==============================] - 36s 4ms/step - loss: -126.1316 - acc: 0.0499 - val_loss: -124.4585 - val_acc: 0.0396\n",
            "Epoch 11/15\n",
            "8982/8982 [==============================] - 35s 4ms/step - loss: -126.1316 - acc: 0.0499 - val_loss: -124.4585 - val_acc: 0.0396\n",
            "Epoch 12/15\n",
            "8982/8982 [==============================] - 36s 4ms/step - loss: -126.1316 - acc: 0.0499 - val_loss: -124.4585 - val_acc: 0.0396\n",
            "Epoch 13/15\n",
            "8982/8982 [==============================] - 36s 4ms/step - loss: -126.1316 - acc: 0.0499 - val_loss: -124.4585 - val_acc: 0.0396\n",
            "Epoch 14/15\n",
            "8982/8982 [==============================] - 36s 4ms/step - loss: -126.1316 - acc: 0.0499 - val_loss: -124.4585 - val_acc: 0.0396\n",
            "Epoch 15/15\n",
            "8982/8982 [==============================] - 36s 4ms/step - loss: -126.1316 - acc: 0.0499 - val_loss: -124.4585 - val_acc: 0.0396\n",
            "2246/2246 [==============================] - 2s 845us/step\n",
            "Test score: -124.4584993139931\n",
            "Test accuracy: 0.0396260017809439\n",
            "CPU times: user 11min 18s, sys: 35.3 s, total: 11min 53s\n",
            "Wall time: 8min 59s\n"
          ],
          "name": "stdout"
        }
      ]
    },
    {
      "cell_type": "markdown",
      "metadata": {
        "colab_type": "text",
        "id": "yz0LCZd_O4IG"
      },
      "source": [
        "<a id=\"p2\"></a>\n",
        "## Part 2- CNNs\n",
        "\n",
        "### Find the Frog\n",
        "\n",
        "Time to play \"find the frog!\" Use Keras and ResNet50 (pre-trained) to detect which of the following images contain frogs:\n",
        "\n",
        "<img align=\"left\" src=\"https://d3i6fh83elv35t.cloudfront.net/newshour/app/uploads/2017/03/GettyImages-654745934-1024x687.jpg\" width=400>\n"
      ]
    },
    {
      "cell_type": "code",
      "metadata": {
        "colab_type": "code",
        "id": "whIqEWR236Af",
        "outputId": "e7ed64a7-6fe3-4dde-e3b4-3db5450a3391",
        "colab": {
          "base_uri": "https://localhost:8080/",
          "height": 255
        }
      },
      "source": [
        "!pip install google_images_download"
      ],
      "execution_count": 1,
      "outputs": [
        {
          "output_type": "stream",
          "text": [
            "Collecting google_images_download\n",
            "  Downloading https://files.pythonhosted.org/packages/18/ed/0319d30c48f3653802da8e6dcfefcea6370157d10d566ef6807cceb5ec4d/google_images_download-2.8.0.tar.gz\n",
            "Collecting selenium (from google_images_download)\n",
            "\u001b[?25l  Downloading https://files.pythonhosted.org/packages/80/d6/4294f0b4bce4de0abf13e17190289f9d0613b0a44e5dd6a7f5ca98459853/selenium-3.141.0-py2.py3-none-any.whl (904kB)\n",
            "\u001b[K     |████████████████████████████████| 911kB 7.2MB/s \n",
            "\u001b[?25hRequirement already satisfied: urllib3 in /usr/local/lib/python3.6/dist-packages (from selenium->google_images_download) (1.24.3)\n",
            "Building wheels for collected packages: google-images-download\n",
            "  Building wheel for google-images-download (setup.py) ... \u001b[?25l\u001b[?25hdone\n",
            "  Created wheel for google-images-download: filename=google_images_download-2.8.0-py2.py3-none-any.whl size=14547 sha256=b9166cf6f88312180067c895a43ca8a05662255d340e647bd9310ebc7cc17e15\n",
            "  Stored in directory: /root/.cache/pip/wheels/1f/28/ad/f56e7061e1d2a9a1affe2f9c649c2570cb9198dd24ede0bbab\n",
            "Successfully built google-images-download\n",
            "Installing collected packages: selenium, google-images-download\n",
            "Successfully installed google-images-download-2.8.0 selenium-3.141.0\n"
          ],
          "name": "stdout"
        }
      ]
    },
    {
      "cell_type": "code",
      "metadata": {
        "colab_type": "code",
        "id": "EKnnnM8k38sN",
        "outputId": "8f97c7f2-c60e-4431-bed7-af03aabf12b3",
        "colab": {
          "base_uri": "https://localhost:8080/",
          "height": 894
        }
      },
      "source": [
        "from google_images_download import google_images_download\n",
        "\n",
        "response = google_images_download.googleimagesdownload()\n",
        "arguments = {\"keywords\": \"animal pond\", \"limit\": 20, \"print_urls\": True}\n",
        "absolute_image_paths = response.download(arguments)"
      ],
      "execution_count": 2,
      "outputs": [
        {
          "output_type": "stream",
          "text": [
            "\n",
            "Item no.: 1 --> Item name = animal pond\n",
            "Evaluating...\n",
            "Starting Download...\n",
            "Image URL: https://www.enchantedlearning.com/pgifs/Pondanimals.GIF\n",
            "Completed Image ====> 1.Pondanimals.GIF\n",
            "Image URL: https://pklifescience.com/staticfiles/articles/images/PKLS4116_inline.png\n",
            "Completed Image ====> 2.PKLS4116_inline.png\n",
            "Image URL: https://i.ytimg.com/vi/NCbu0TND9vE/hqdefault.jpg\n",
            "Completed Image ====> 3.hqdefault.jpg\n",
            "Image URL: https://pklifescience.com/staticfiles/articles/images/PKLS4116.png\n",
            "Completed Image ====> 4.PKLS4116.png\n",
            "Image URL: https://get.pxhere.com/photo/water-animal-pond-wildlife-mammal-fish-eat-fauna-whiskers-vertebrate-otter-mink-marmot-sea-otter-mustelidae-1383482.jpg\n",
            "Completed Image ====> 5.water-animal-pond-wildlife-mammal-fish-eat-fauna-whiskers-vertebrate-otter-mink-marmot-sea-otter-mustelidae-1383482.jpg\n",
            "Image URL: https://i.pinimg.com/originals/08/32/22/0832222ee0338d16abf7345aa10bd59f.jpg\n",
            "Completed Image ====> 6.0832222ee0338d16abf7345aa10bd59f.jpg\n",
            "Image URL: https://upload.wikimedia.org/wikipedia/commons/5/5d/Alligator_animal_on_pond.jpg\n",
            "Completed Image ====> 7.Alligator_animal_on_pond.jpg\n",
            "Image URL: https://cdn.pixabay.com/photo/2017/04/19/20/37/frog-2243543_960_720.jpg\n",
            "Completed Image ====> 8.frog-2243543_960_720.jpg\n",
            "Image URL: https://i.pinimg.com/originals/12/ae/e2/12aee2aa186a7b69a66563f138bba822.jpg\n",
            "Completed Image ====> 9.12aee2aa186a7b69a66563f138bba822.jpg\n",
            "Image URL: https://www.nwf.org/-/media/NEW-WEBSITE/Programs/Garden-for-Wildlife/amphibian_bronze-frog_Julia-Bartosh_400x267.ashx\n",
            "Invalid or missing image format. Skipping...\n",
            "Image URL: https://www.pixoto.com/images-photography/animals/birds/birds-in-a-pond-5986310798966784.jpg\n",
            "Completed Image ====> 10.birds-in-a-pond-5986310798966784.jpg\n",
            "Image URL: https://www.velda.nl/app/uploads/sites/3/2015/11/Gold-fish.jpg\n",
            "Completed Image ====> 11.Gold-fish.jpg\n",
            "Image URL: https://cdn.pixabay.com/photo/2017/08/17/06/32/goose-2650209_960_720.jpg\n",
            "Completed Image ====> 12.goose-2650209_960_720.jpg\n",
            "Image URL: https://www.nycgovparks.org/pagefiles/88/urban-wildlife-morningside-red-ear-slider-lg.jpg\n",
            "Completed Image ====> 13.urban-wildlife-morningside-red-ear-slider-lg.jpg\n",
            "Image URL: https://usercontent1.hubstatic.com/14036930_f496.jpg\n",
            "Completed Image ====> 14.14036930_f496.jpg\n",
            "Image URL: http://static.havahart.com/media/articles/images/817/55-herons-out-koi-pond.jpg\n",
            "Completed Image ====> 15.55-herons-out-koi-pond.jpg\n",
            "Image URL: https://s3-us-west-1.amazonaws.com/contentlab.studiod/getty/37f1d57d30d74892b070208c5399348b\n",
            "Invalid or missing image format. Skipping...\n",
            "Image URL: http://www.wou.edu/~bledsoek/pond_organisms/pond_organism_list_files/image001.jpg\n",
            "Completed Image ====> 16.image001.jpg\n",
            "Image URL: https://static.wixstatic.com/media/06af3a_f89e7596d5254e6e8896f054e8c4ea7b~mv2_d_1650_1275_s_2.jpg/v1/fill/w_500,h_500/06af3a_f89e7596d5254e6e8896f054e8c4ea7b~mv2_d_1650_1275_s_2.jpg\n",
            "Completed Image ====> 17.06af3a_f89e7596d5254e6e8896f054e8c4ea7b~mv2_d_1650_1275_s_2.jpg\n",
            "Image URL: https://i1.wp.com/www.pahomepage.com/wp-content/uploads/sites/91/2019/08/thumbnail_PITP-Poster-11x14.jpg?resize=1440%2C2560&ssl=1\n",
            "Completed Image ====> 18.thumbnail_PITP-Poster-11x14.jpg\n",
            "Image URL: https://img-aws.ehowcdn.com/600x600p/photos.demandstudios.com/getty/article/178/192/87827228_XS.jpg\n",
            "Completed Image ====> 19.87827228_XS.jpg\n",
            "Image URL: https://i.pinimg.com/736x/dd/69/c9/dd69c94f00312b5c487bf1018f38be58--vocabulary-cards-picture-cards.jpg\n",
            "Completed Image ====> 20.dd69c94f00312b5c487bf1018f38be58--vocabulary-cards-picture-cards.jpg\n",
            "\n",
            "Errors: 2\n",
            "\n"
          ],
          "name": "stdout"
        }
      ]
    },
    {
      "cell_type": "code",
      "metadata": {
        "id": "RxRThP2RZTcu",
        "colab_type": "code",
        "outputId": "4a027a30-1de3-4f99-b8ca-9d70042b5d63",
        "colab": {
          "base_uri": "https://localhost:8080/",
          "height": 353
        }
      },
      "source": [
        "image_list = absolute_image_paths[0]['animal pond']\n",
        "image_list"
      ],
      "execution_count": 3,
      "outputs": [
        {
          "output_type": "execute_result",
          "data": {
            "text/plain": [
              "['/content/downloads/animal pond/1.Pondanimals.GIF',\n",
              " '/content/downloads/animal pond/2.PKLS4116_inline.png',\n",
              " '/content/downloads/animal pond/3.hqdefault.jpg',\n",
              " '/content/downloads/animal pond/4.PKLS4116.png',\n",
              " '/content/downloads/animal pond/5.water-animal-pond-wildlife-mammal-fish-eat-fauna-whiskers-vertebrate-otter-mink-marmot-sea-otter-mustelidae-1383482.jpg',\n",
              " '/content/downloads/animal pond/6.0832222ee0338d16abf7345aa10bd59f.jpg',\n",
              " '/content/downloads/animal pond/7.Alligator_animal_on_pond.jpg',\n",
              " '/content/downloads/animal pond/8.frog-2243543_960_720.jpg',\n",
              " '/content/downloads/animal pond/9.12aee2aa186a7b69a66563f138bba822.jpg',\n",
              " '/content/downloads/animal pond/10.birds-in-a-pond-5986310798966784.jpg',\n",
              " '/content/downloads/animal pond/11.Gold-fish.jpg',\n",
              " '/content/downloads/animal pond/12.goose-2650209_960_720.jpg',\n",
              " '/content/downloads/animal pond/13.urban-wildlife-morningside-red-ear-slider-lg.jpg',\n",
              " '/content/downloads/animal pond/14.14036930_f496.jpg',\n",
              " '/content/downloads/animal pond/15.55-herons-out-koi-pond.jpg',\n",
              " '/content/downloads/animal pond/16.image001.jpg',\n",
              " '/content/downloads/animal pond/17.06af3a_f89e7596d5254e6e8896f054e8c4ea7b~mv2_d_1650_1275_s_2.jpg',\n",
              " '/content/downloads/animal pond/18.thumbnail_PITP-Poster-11x14.jpg',\n",
              " '/content/downloads/animal pond/19.87827228_XS.jpg',\n",
              " '/content/downloads/animal pond/20.dd69c94f00312b5c487bf1018f38be58--vocabulary-cards-picture-cards.jpg']"
            ]
          },
          "metadata": {
            "tags": []
          },
          "execution_count": 3
        }
      ]
    },
    {
      "cell_type": "code",
      "metadata": {
        "id": "X3zvJAlkavPu",
        "colab_type": "code",
        "colab": {}
      },
      "source": [
        "from PIL import Image, ImageOps\n",
        "\n",
        "def resize_image(filename, new_width=256, new_height=256):#the delf model was trained on images 256x256 the input of our model also should be 256x256\n",
        "  pil_image = Image.open(filename)\n",
        "  pil_image = ImageOps.fit(pil_image, (new_width, new_height), Image.ANTIALIAS)\n",
        "  pil_image_rgb = pil_image.convert('RGB')\n",
        "  pil_image_rgb.save(filename, format='JPEG', quality=90)\n",
        "\n",
        "for i in image_list:\n",
        "     resize_image(i)"
      ],
      "execution_count": 0,
      "outputs": []
    },
    {
      "cell_type": "markdown",
      "metadata": {
        "colab_type": "text",
        "id": "si5YfNqS50QU"
      },
      "source": [
        "At time of writing at least a few do, but since the Internet changes - it is possible your 5 won't. You can easily verify yourself, and (once you have working code) increase the number of images you pull to be more sure of getting a frog. Your goal is to validly run ResNet50 on the input images - don't worry about tuning or improving the model.\n",
        "\n",
        "*Hint* - ResNet 50 doesn't just return \"frog\". The three labels it has for frogs are: `bullfrog, tree frog, tailed frog`\n",
        "\n",
        "*Stretch goal* - also check for fish."
      ]
    },
    {
      "cell_type": "code",
      "metadata": {
        "colab_type": "code",
        "id": "FaT07ddW3nHz",
        "colab": {}
      },
      "source": [
        "# TODO - your code!\n",
        "\n",
        "\n",
        "import numpy as np\n",
        "\n",
        "from tensorflow.keras.applications.resnet50 import ResNet50\n",
        "from tensorflow.keras.preprocessing import image\n",
        "from tensorflow.keras.applications.resnet50 import preprocess_input, decode_predictions#take probabilities\n",
        "\n",
        "def process_img_path(img_path):\n",
        "  return image.load_img(img_path, target_size=(224, 224))\n",
        "\n",
        "def img_contains_frog(img):\n",
        "  x = image.img_to_array(img)#takes in the image\n",
        "  x = np.expand_dims(x, axis=0)\n",
        "  x = preprocess_input(x)\n",
        "  model = ResNet50(weights='imagenet')\n",
        "  features = model.predict(x)#predict what's in the model\n",
        "  results = decode_predictions(features, top=3)[0]#get the top 3 probabilities and also label associated\n",
        "  print(results)\n",
        "  for entry in results:\n",
        "    if entry[1] == 'banana':#if the first entry returns banana, do nothing, if not, return second entry\n",
        "      return entry[2]#outputs a list of probabilities\n",
        "  return 0.0"
      ],
      "execution_count": 0,
      "outputs": []
    },
    {
      "cell_type": "code",
      "metadata": {
        "id": "pnC4kZVJbmD3",
        "colab_type": "code",
        "colab": {
          "base_uri": "https://localhost:8080/",
          "height": 188
        },
        "outputId": "20b2799b-c541-44a6-99a1-48861d85ebc1"
      },
      "source": [
        "\n",
        "\n",
        "result = img_contains_frog(process_img_path(image_list[0]))"
      ],
      "execution_count": 7,
      "outputs": [
        {
          "output_type": "stream",
          "text": [
            "WARNING: Logging before flag parsing goes to stderr.\n",
            "W0826 19:37:10.693234 140115864876928 deprecation.py:506] From /usr/local/lib/python3.6/dist-packages/tensorflow/python/ops/init_ops.py:1251: calling VarianceScaling.__init__ (from tensorflow.python.ops.init_ops) with dtype is deprecated and will be removed in a future version.\n",
            "Instructions for updating:\n",
            "Call initializer instance with the dtype argument instead of passing it to the constructor\n"
          ],
          "name": "stderr"
        },
        {
          "output_type": "stream",
          "text": [
            "Downloading data from https://github.com/fchollet/deep-learning-models/releases/download/v0.2/resnet50_weights_tf_dim_ordering_tf_kernels.h5\n",
            "102858752/102853048 [==============================] - 3s 0us/step\n",
            "Downloading data from https://storage.googleapis.com/download.tensorflow.org/data/imagenet_class_index.json\n",
            "40960/35363 [==================================] - 0s 0us/step\n",
            "[('n06359193', 'web_site', 0.89605397), ('n04404412', 'television', 0.07584102), ('n03598930', 'jigsaw_puzzle', 0.009310877)]\n"
          ],
          "name": "stdout"
        }
      ]
    },
    {
      "cell_type": "code",
      "metadata": {
        "id": "1z6So6aBb1SE",
        "colab_type": "code",
        "colab": {
          "base_uri": "https://localhost:8080/",
          "height": 353
        },
        "outputId": "5049c6d0-d1e1-4747-ceeb-74e0025c8246"
      },
      "source": [
        "labels = []\n",
        "for i in image_list:\n",
        "    results = img_contains_frog(process_img_path(i))\n",
        "    labels.append(results)"
      ],
      "execution_count": 11,
      "outputs": [
        {
          "output_type": "stream",
          "text": [
            "[('n06359193', 'web_site', 0.89605397), ('n04404412', 'television', 0.07584102), ('n03598930', 'jigsaw_puzzle', 0.009310877)]\n",
            "[('n04243546', 'slot', 0.8985829), ('n04476259', 'tray', 0.025335675), ('n03908618', 'pencil_box', 0.019952878)]\n",
            "[('n01443537', 'goldfish', 0.55898356), ('n02536864', 'coho', 0.32859007), ('n01630670', 'common_newt', 0.02376141)]\n",
            "[('n03485794', 'handkerchief', 0.71689796), ('n04209239', 'shower_curtain', 0.11719423), ('n02834397', 'bib', 0.023235068)]\n",
            "[('n02444819', 'otter', 0.90565825), ('n02441942', 'weasel', 0.05342591), ('n02442845', 'mink', 0.034301735)]\n",
            "[('n06359193', 'web_site', 0.70254606), ('n07565083', 'menu', 0.19019039), ('n03291819', 'envelope', 0.023184737)]\n",
            "[('n01698640', 'American_alligator', 0.8215397), ('n01737021', 'water_snake', 0.057155196), ('n01689811', 'alligator_lizard', 0.048066698)]\n",
            "[('n01641577', 'bullfrog', 0.99305624), ('n01644900', 'tailed_frog', 0.006250196), ('n01644373', 'tree_frog', 0.00034542466)]\n",
            "[('n02116738', 'African_hunting_dog', 0.8971374), ('n02117135', 'hyena', 0.034927733), ('n02105162', 'malinois', 0.026862286)]\n",
            "[('n02009912', 'American_egret', 0.7405644), ('n02012849', 'crane', 0.15032986), ('n02009229', 'little_blue_heron', 0.026411064)]\n",
            "[('n01443537', 'goldfish', 0.99945635), ('n02536864', 'coho', 0.0004327336), ('n01985128', 'crayfish', 2.9877303e-05)]\n",
            "[('n01860187', 'black_swan', 0.7273625), ('n01855672', 'goose', 0.12300291), ('n02457408', 'three-toed_sloth', 0.06162966)]\n",
            "[('n01667778', 'terrapin', 0.8301119), ('n01667114', 'mud_turtle', 0.1696285), ('n01669191', 'box_turtle', 0.0002047296)]\n",
            "[('n01667778', 'terrapin', 0.62830526), ('n01667114', 'mud_turtle', 0.37084192), ('n01669191', 'box_turtle', 0.0008040266)]\n",
            "[('n02009229', 'little_blue_heron', 0.92336756), ('n02009912', 'American_egret', 0.036613107), ('n02012849', 'crane', 0.023493877)]\n",
            "[('n01847000', 'drake', 0.999673), ('n01855032', 'red-breasted_merganser', 0.0002866547), ('n02018207', 'American_coot', 1.4786872e-05)]\n",
            "[('n06359193', 'web_site', 0.9964599), ('n03291819', 'envelope', 0.0012711672), ('n06596364', 'comic_book', 0.00019414631)]\n",
            "[('n07565083', 'menu', 0.6719381), ('n06596364', 'comic_book', 0.16929188), ('n06359193', 'web_site', 0.09001457)]\n",
            "[('n01443537', 'goldfish', 0.99972373), ('n09256479', 'coral_reef', 0.00012592335), ('n01833805', 'hummingbird', 2.6504038e-05)]\n",
            "[('n06359193', 'web_site', 0.36451733), ('n01667778', 'terrapin', 0.27395737), ('n04243546', 'slot', 0.12207158)]\n"
          ],
          "name": "stdout"
        }
      ]
    },
    {
      "cell_type": "code",
      "metadata": {
        "id": "lWOHjcdDgxEe",
        "colab_type": "code",
        "colab": {}
      },
      "source": [
        "label_matrix = [[('n06359193', 'web_site', 0.89605397), ('n04404412', 'television', 0.07584102), ('n03598930', 'jigsaw_puzzle', 0.009310877)],\n",
        "[('n01443537', 'goldfish', 0.55898356), ('n02536864', 'coho', 0.32859007), ('n01630670', 'common_newt', 0.02376141)],\n",
        "[('n04243546', 'slot', 0.8985829), ('n04476259', 'tray', 0.025335675), ('n03908618', 'pencil_box', 0.019952878)],\n",
        "[('n03485794', 'handkerchief', 0.71689796), ('n04209239', 'shower_curtain', 0.11719423), ('n02834397', 'bib', 0.023235068)],\n",
        "[('n02444819', 'otter', 0.90565825), ('n02441942', 'weasel', 0.05342591), ('n02442845', 'mink', 0.034301735)],\n",
        "[('n01641577', 'bullfrog', 0.99305624), ('n01644900', 'tailed_frog', 0.006250196), ('n01644373', 'tree_frog', 0.00034542466)],\n",
        "[('n02116738', 'African_hunting_dog', 0.8971374), ('n02117135', 'hyena', 0.034927733), ('n02105162', 'malinois', 0.026862286)],\n",
        "[('n01698640', 'American_alligator', 0.8215397), ('n01737021', 'water_snake', 0.057155196), ('n01689811', 'alligator_lizard', 0.048066698)],\n",
        "[('n01641577', 'bullfrog', 0.97481173), ('n01737021', 'water_snake', 0.011244673), ('n01644900', 'tailed_frog', 0.010225667)],\n",
        "[('n01443537', 'goldfish', 0.99945635), ('n02536864', 'coho', 0.0004327336), ('n01985128', 'crayfish', 2.9877303e-05)],\n",
        "[('n02009912', 'American_egret', 0.7405644), ('n02012849', 'crane', 0.15032986), ('n02009229', 'little_blue_heron', 0.026411064)],\n",
        "[('n01860187', 'black_swan', 0.7273625), ('n01855672', 'goose', 0.12300291), ('n02457408', 'three-toed_sloth', 0.06162966)],\n",
        "[('n06359193', 'web_site', 0.9964599), ('n03291819', 'envelope', 0.0012711672), ('n06596364', 'comic_book', 0.00019414631)],\n",
        "[('n01443537', 'goldfish', 0.9999902), ('n02536864', 'coho', 3.0037447e-06), ('n09256479', 'coral_reef', 1.7858109e-06)],\n",
        "[('n03291819', 'envelope', 0.1650426), ('n04476259', 'tray', 0.10622762), ('n03876231', 'paintbrush', 0.083313994)],\n",
        "[('n04476259', 'tray', 0.41268253), ('n03938244', 'pillow', 0.08933346), ('n02909870', 'bucket', 0.05083196)],\n",
        "[('n01847000', 'drake', 0.999673), ('n01855032', 'red-breasted_merganser', 0.0002866547), ('n02018207', 'American_coot', 1.4786872e-05)],\n",
        "[('n06359193', 'web_site', 0.36451733), ('n01667778', 'terrapin', 0.27395737), ('n04243546', 'slot', 0.12207158)],\n",
        "[('n02363005', 'beaver', 0.5943077), ('n02361337', 'marmot', 0.24198961), ('n02444819', 'otter', 0.15658511)],\n",
        "[('n01440764', 'tench', 0.73850137), ('n02514041', 'barracouta', 0.056688532), ('n02641379', 'gar', 0.056272756)]]"
      ],
      "execution_count": 0,
      "outputs": []
    },
    {
      "cell_type": "code",
      "metadata": {
        "id": "AillhHpdhbyY",
        "colab_type": "code",
        "colab": {
          "base_uri": "https://localhost:8080/",
          "height": 50
        },
        "outputId": "e99e1a25-3da7-4575-9eae-202421918be4"
      },
      "source": [
        "for i in label_matrix:\n",
        "  if (str(i)).find('frog') != -1:\n",
        "    print(i)"
      ],
      "execution_count": 18,
      "outputs": [
        {
          "output_type": "stream",
          "text": [
            "[('n01641577', 'bullfrog', 0.99305624), ('n01644900', 'tailed_frog', 0.006250196), ('n01644373', 'tree_frog', 0.00034542466)]\n",
            "[('n01641577', 'bullfrog', 0.97481173), ('n01737021', 'water_snake', 0.011244673), ('n01644900', 'tailed_frog', 0.010225667)]\n"
          ],
          "name": "stdout"
        }
      ]
    },
    {
      "cell_type": "markdown",
      "metadata": {
        "colab_type": "text",
        "id": "XEuhvSu7O5Rf"
      },
      "source": [
        "<a id=\"p3\"></a>\n",
        "## Part 3 - Autoencoders\n",
        "\n",
        "Describe a use case for an autoencoder given that an autoencoder tries to predict its own input. \n",
        "\n",
        "__*Your Answer:*__ "
      ]
    },
    {
      "cell_type": "code",
      "metadata": {
        "id": "6J3_PNxOh4Ca",
        "colab_type": "code",
        "colab": {}
      },
      "source": [
        "#Autoencoders are really useful in trying to label data / unsupervised feature engineering"
      ],
      "execution_count": 0,
      "outputs": []
    },
    {
      "cell_type": "markdown",
      "metadata": {
        "colab_type": "text",
        "id": "626zYgjkO7Vq"
      },
      "source": [
        "<a id=\"p4\"></a>\n",
        "## Part 4 - More..."
      ]
    },
    {
      "cell_type": "markdown",
      "metadata": {
        "colab_type": "text",
        "id": "__lDWfcUO8oo"
      },
      "source": [
        "Answer the following questions, with a target audience of a fellow Data Scientist:\n",
        "\n",
        "- What do you consider your strongest area, as a Data Scientist?\n",
        "- What area of Data Science would you most like to learn more about, and why?\n",
        "- Where do you think Data Science will be in 5 years?\n",
        "- What are the threats posed by AI to our society?\n",
        "- How do you think we can counteract those threats? \n",
        "- Do you think achieving General Artifical Intelligence is ever possible?\n",
        "\n",
        "A few sentences per answer is fine - only elaborate if time allows."
      ]
    },
    {
      "cell_type": "code",
      "metadata": {
        "id": "ZAABDOtPV-Qt",
        "colab_type": "code",
        "colab": {}
      },
      "source": [
        "# 1 -I have very strong problems skills and can create methods to solve problems even if I haven't seen them before.\n",
        "# 2 -Coming from a non-software, but engineering background I need to work really hard on my coding skills. I also need to improve my local workflow although I disdain it.\n",
        "# 3 - Inevitable\n",
        "# 4 - I consider AI a tool and a tool is only as good as what people make about it\n",
        "# 5 - Educate people?\n",
        "# 6 - That's building the tower of Babel, but the technical engineering skills were definitely there to build it."
      ],
      "execution_count": 0,
      "outputs": []
    },
    {
      "cell_type": "markdown",
      "metadata": {
        "colab_type": "text",
        "id": "_Hoqe3mM_Mtc"
      },
      "source": [
        "## Congratulations! \n",
        "\n",
        "Thank you for your hard work, and congratulations! You've learned a lot, and you should proudly call yourself a Data Scientist.\n"
      ]
    },
    {
      "cell_type": "code",
      "metadata": {
        "id": "QVZMLbh4Euw5",
        "colab_type": "code",
        "outputId": "4ef5b82e-4e2b-452b-bd34-9b7342e89cc9",
        "colab": {}
      },
      "source": [
        "from IPython.display import HTML\n",
        "\n",
        "HTML(\"\"\"<iframe src=\"https://giphy.com/embed/26xivLqkv86uJzqWk\" width=\"480\" height=\"270\" frameBorder=\"0\" class=\"giphy-embed\" allowFullScreen></iframe><p><a href=\"https://giphy.com/gifs/mumm-champagne-saber-26xivLqkv86uJzqWk\">via GIPHY</a></p>\"\"\")"
      ],
      "execution_count": 0,
      "outputs": [
        {
          "output_type": "execute_result",
          "data": {
            "text/html": [
              "<iframe src=\"https://giphy.com/embed/26xivLqkv86uJzqWk\" width=\"480\" height=\"270\" frameBorder=\"0\" class=\"giphy-embed\" allowFullScreen></iframe><p><a href=\"https://giphy.com/gifs/mumm-champagne-saber-26xivLqkv86uJzqWk\">via GIPHY</a></p>"
            ],
            "text/plain": [
              "<IPython.core.display.HTML object>"
            ]
          },
          "metadata": {
            "tags": []
          },
          "execution_count": 25
        }
      ]
    }
  ]
}